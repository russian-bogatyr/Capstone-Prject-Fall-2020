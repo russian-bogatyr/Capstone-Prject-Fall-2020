{
 "cells": [
  {
   "cell_type": "code",
   "execution_count": 59,
   "metadata": {},
   "outputs": [],
   "source": [
    "from math import sqrt\n",
    "import matplotlib.pyplot as plt\n",
    "import numpy as np\n"
   ]
  },
  {
   "cell_type": "code",
   "execution_count": 60,
   "metadata": {},
   "outputs": [],
   "source": [
    "#alg checking 0 and 1 element in data set\n",
    "def euclidean_distance(test_point, neighbor_point):\n",
    "\tdistance = 0.0\n",
    "\tfor i in range(len(test_point)-1):\n",
    "\t\tdistance += (test_point[i] - neighbor_point[i])**2\n",
    "\treturn sqrt(distance)"
   ]
  },
  {
   "cell_type": "code",
   "execution_count": 61,
   "metadata": {},
   "outputs": [],
   "source": [
    "\n",
    "def get_neighbors(data_set, test_point, num_neighbors):\n",
    "\tdistances = list()\n",
    "\tfor set_row in data_set:\n",
    "\t\tdist = euclidean_distance(test_point, set_row)\n",
    "\t\tdistances.append((set_row, dist))\n",
    "\tdistances.sort(key=lambda tup: tup[1])\n",
    "\tneighbors = list()\n",
    "\tfor i in range(num_neighbors):\n",
    "\t\tneighbors.append(distances[i][0])\n",
    "\treturn neighbors"
   ]
  },
  {
   "cell_type": "code",
   "execution_count": 62,
   "metadata": {},
   "outputs": [
    {
     "name": "stdout",
     "output_type": "stream",
     "text": [
      "[[41 36 15]\n",
      " [32  9  6]\n",
      " [10 49 37]\n",
      " [21 54  9]\n",
      " [35 15 45]\n",
      " [27 48 53]\n",
      " [14 24 52]\n",
      " [19 44 23]\n",
      " [52 15 27]\n",
      " [ 0 33 25]\n",
      " [12  4 20]\n",
      " [33 20  9]\n",
      " [ 1 51 30]\n",
      " [ 7 23  0]\n",
      " [21 34  6]\n",
      " [39 22 42]\n",
      " [38 51 24]\n",
      " [19  8 32]\n",
      " [42 19  3]\n",
      " [50 34 26]\n",
      " [28 26 27]\n",
      " [46 31 32]\n",
      " [36 24 26]\n",
      " [54  7 27]\n",
      " [35 37 17]\n",
      " [25 31 28]\n",
      " [ 3 29  3]\n",
      " [47  9 18]\n",
      " [41 22 41]\n",
      " [ 0 31 19]\n",
      " [51 18 18]\n",
      " [36  9 30]\n",
      " [31 30 41]\n",
      " [30 26 30]\n",
      " [17 29 42]\n",
      " [11  0 44]\n",
      " [32 31 45]\n",
      " [ 2 26  3]\n",
      " [18 52 23]\n",
      " [48 20 44]\n",
      " [46 26 15]\n",
      " [27 39 31]\n",
      " [11  4 29]\n",
      " [37 15 49]\n",
      " [22  1 35]\n",
      " [34 30 46]\n",
      " [52 49 54]\n",
      " [11 38 26]\n",
      " [14 20 43]\n",
      " [25 25  3]\n",
      " [ 1 19 49]\n",
      " [34 46 20]\n",
      " [ 7 19 41]\n",
      " [17 54  8]\n",
      " [51  9 38]]\n"
     ]
    }
   ],
   "source": [
    "# Test data\n",
    "# x y label\n",
    "dataset = np.random.randint(55, size=(55,3))\n",
    "print(dataset)"
   ]
  },
  {
   "cell_type": "code",
   "execution_count": 65,
   "metadata": {},
   "outputs": [],
   "source": [
    "test_data = [22, 12]\n",
    "k_number = 5"
   ]
  },
  {
   "cell_type": "code",
   "execution_count": 66,
   "metadata": {},
   "outputs": [
    {
     "name": "stdout",
     "output_type": "stream",
     "text": [
      "[ 0 33 25]\n",
      "[ 0 31 19]\n",
      "[ 1 51 30]\n",
      "[ 1 19 49]\n",
      "[ 2 26  3]\n"
     ]
    }
   ],
   "source": [
    "neighbors = get_neighbors(dataset, test_data, k_number)\n",
    "for neighbor in neighbors:\n",
    "\tprint(neighbor)"
   ]
  },
  {
   "cell_type": "code",
   "execution_count": null,
   "metadata": {},
   "outputs": [],
   "source": []
  }
 ],
 "metadata": {
  "kernelspec": {
   "display_name": "Python 3",
   "language": "python",
   "name": "python3"
  },
  "language_info": {
   "codemirror_mode": {
    "name": "ipython",
    "version": 3
   },
   "file_extension": ".py",
   "mimetype": "text/x-python",
   "name": "python",
   "nbconvert_exporter": "python",
   "pygments_lexer": "ipython3",
   "version": "3.7.6"
  }
 },
 "nbformat": 4,
 "nbformat_minor": 4
}
