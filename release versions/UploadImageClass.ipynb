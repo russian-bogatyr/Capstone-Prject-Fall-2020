{
 "cells": [
  {
   "cell_type": "code",
   "execution_count": 41,
   "metadata": {},
   "outputs": [],
   "source": [
    "\n",
    "from tkinter import *\n",
    "  \n",
    "# loading Python Imaging Library \n",
    "from PIL import ImageTk, Image \n",
    "  \n",
    "# To get the dialog box to open when required  \n",
    "from tkinter import filedialog\n",
    "\n"
   ]
  },
  {
   "cell_type": "code",
   "execution_count": 48,
   "metadata": {},
   "outputs": [
    {
     "name": "stderr",
     "output_type": "stream",
     "text": [
      "Exception in Tkinter callback\n",
      "Traceback (most recent call last):\n",
      "  File \"F:\\Anaconda\\lib\\tkinter\\__init__.py\", line 1705, in __call__\n",
      "    return self.func(*args)\n",
      "  File \"<ipython-input-42-df855d9ae84c>\", line 6, in open_img\n",
      "    img = Image.open(x)\n",
      "AttributeError: type object 'Image' has no attribute 'open'\n"
     ]
    }
   ],
   "source": [
    "class OpenImageWindow:\n",
    "    \n",
    "    #lines of code to create window and button in it    \n",
    "    # Create a windoe \n",
    "    root = Tk() \n",
    "    # Set Title as Image Loader \n",
    "    root.title(\"Image Loader\") \n",
    "    # Set the resolution of window \n",
    "    root.geometry(\"550x300\") \n",
    "    # Allow Window to be resizable \n",
    "    root.resizable(width = True, height = True) \n",
    "    # Create a button and place it into the window using grid layout \n",
    "    btn = Button(root, text ='open image', command = open_img).grid( \n",
    "                                            row = 1, columnspan = 4) \n",
    "    root.mainloop()\n",
    "    \n",
    "    def open_img(): \n",
    "        # Select the Imagename  from a folder  \n",
    "        x = openfilename() \n",
    "        # opens the image \n",
    "        img = Image.open(x) \n",
    "        # resize the image and apply a high-quality down sampling filter \n",
    "        img = img.resize((250, 250), Image.ANTIALIAS) \n",
    "        # PhotoImage class is used to add image to widgets, icons etc \n",
    "        img = ImageTk.PhotoImage(img) \n",
    "        # create a label \n",
    "        panel = Label(root, image = img) \n",
    "        # set the image as img  \n",
    "        panel.image = img \n",
    "        panel.grid(row = 2) \n",
    "\n",
    "    def openfilename(): \n",
    "\n",
    "        # open file dialog box to select image \n",
    "        # The dialogue box has a title \"Open\" \n",
    "        filename = filedialog.askopenfilename(title ='\"pen') \n",
    "        return filename "
   ]
  },
  {
   "cell_type": "code",
   "execution_count": null,
   "metadata": {},
   "outputs": [],
   "source": []
  }
 ],
 "metadata": {
  "kernelspec": {
   "display_name": "Python 3",
   "language": "python",
   "name": "python3"
  },
  "language_info": {
   "codemirror_mode": {
    "name": "ipython",
    "version": 3
   },
   "file_extension": ".py",
   "mimetype": "text/x-python",
   "name": "python",
   "nbconvert_exporter": "python",
   "pygments_lexer": "ipython3",
   "version": "3.7.9"
  }
 },
 "nbformat": 4,
 "nbformat_minor": 4
}
