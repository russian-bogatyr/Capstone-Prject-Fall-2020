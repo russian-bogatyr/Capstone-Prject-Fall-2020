{
 "cells": [
  {
   "cell_type": "code",
   "execution_count": 4,
   "metadata": {},
   "outputs": [],
   "source": [
    "import cv2\n",
    "import numpy as np\n",
    "import dlib\n",
    "import sys\n",
    "\n",
    "class FacialFeatures:\n",
    "    detector = dlib.get_frontal_face_detector()\n",
    "    predictor = dlib.shape_predictor(r\"C:\\Users\\Anton\\Desktop\\FALL 2020\\CS490 (SE450)\\Detect-Facial-Features-master\\Detect-Facial-Features-master\\shape_predictor_68_face_landmarks.dat\")\n",
    "    \n",
    "    #placeholder, should crate class for uploading picture\n",
    "    img = cv2.imread(r\"C:\\Users\\Anton\\Desktop\\FALL 2020\\CS490 (SE450)\\Detect-Facial-Features-master\\Detect-Facial-Features-master\\images\\image_2.jpg\")\n",
    "    gray = cv2.cvtColor(src=img, code=cv2.COLOR_BGR2GRAY)\n",
    "    \n",
    "    # Use detector to find landmarks\n",
    "    facial_points = np.array([])\n",
    "    faces = detector(gray)\n",
    "    \n",
    "    for face in faces:\n",
    "        x1 = face.left() # left point\n",
    "        y1 = face.top() # top point\n",
    "        x2 = face.right() # right point\n",
    "        y2 = face.bottom() # bottom point\n",
    "        # Create landmark object\n",
    "        landmarks = predictor(image=gray, box=face)\n",
    "        # Loop through all the points\n",
    "        for n in range(0, 68):\n",
    "            x = landmarks.part(n).x\n",
    "            y = landmarks.part(n).y        \n",
    "            facial_points = np.append(facial_points, ([x, y]) , axis = 0)\n",
    "            # Draw a circle\n",
    "            cv2.circle(img=img, center=(x, y), radius=3, color=(0,\n",
    "            255, 0), thickness=-1)\n",
    "            \n",
    "            \n",
    "    # show the image\n",
    "    #cv2.imshow(winname=\"Face\", mat=img)\n",
    "    # Delay between every fram\n",
    "    #cv2.waitKey(delay=0)\n",
    "    # Close all windows\n",
    "    #cv2.destroyAllWindows()\n",
    "    \n",
    "    facial_coordinates = np.reshape(facial_points, (-1, 2))\n",
    "    \n",
    "    def calculate_facialSize(facial_coordinates):\n",
    "        width = facial_coordinates[16][0] - facial_coordinates[0][0] # top right(17) - top left(1)\n",
    "        height = facial_coordinates[8][1] - facial_coordinates[27][1] # bottom center(9) - top center(28)\n",
    "        return (width , height)"
   ]
  },
  {
   "cell_type": "code",
   "execution_count": null,
   "metadata": {},
   "outputs": [],
   "source": []
  }
 ],
 "metadata": {
  "kernelspec": {
   "display_name": "Python 3",
   "language": "python",
   "name": "python3"
  },
  "language_info": {
   "codemirror_mode": {
    "name": "ipython",
    "version": 3
   },
   "file_extension": ".py",
   "mimetype": "text/x-python",
   "name": "python",
   "nbconvert_exporter": "python",
   "pygments_lexer": "ipython3",
   "version": "3.7.9"
  }
 },
 "nbformat": 4,
 "nbformat_minor": 4
}
