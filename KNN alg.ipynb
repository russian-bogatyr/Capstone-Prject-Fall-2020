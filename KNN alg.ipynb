{
 "cells": [
  {
   "cell_type": "code",
   "execution_count": 1,
   "metadata": {},
   "outputs": [],
   "source": [
    "from math import sqrt\n",
    "import matplotlib.pyplot as plt\n",
    "import numpy as np\n"
   ]
  },
  {
   "cell_type": "code",
   "execution_count": 4,
   "metadata": {},
   "outputs": [],
   "source": [
    "class KnnAlgorithm:\n",
    "    \n",
    "    def euclidean_distance(test_point, neighbor_point):\n",
    "        distance = 0.0\n",
    "        for i in range(len(test_point)-1):\n",
    "            distance += (test_point[i] - neighbor_point[i])**2\n",
    "        return sqrt(distance)\n",
    "\n",
    "    def get_neighbors(data_set, test_point, num_neighbors):\n",
    "        distances = list()\n",
    "        for set_row in data_set:\n",
    "            dist = euclidean_distance(test_point, set_row)\n",
    "            distances.append((set_row, dist))\n",
    "        distances.sort(key=lambda tup: tup[1])\n",
    "        neighbors = list()\n",
    "        for i in range(num_neighbors):\n",
    "            neighbors.append(distances[i][0])\n",
    "        return neighbors"
   ]
  },
  {
   "cell_type": "code",
   "execution_count": null,
   "metadata": {},
   "outputs": [],
   "source": []
  }
 ],
 "metadata": {
  "kernelspec": {
   "display_name": "Python 3",
   "language": "python",
   "name": "python3"
  },
  "language_info": {
   "codemirror_mode": {
    "name": "ipython",
    "version": 3
   },
   "file_extension": ".py",
   "mimetype": "text/x-python",
   "name": "python",
   "nbconvert_exporter": "python",
   "pygments_lexer": "ipython3",
   "version": "3.7.9"
  }
 },
 "nbformat": 4,
 "nbformat_minor": 4
}
