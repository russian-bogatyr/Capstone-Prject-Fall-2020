{
 "cells": [
  {
   "cell_type": "code",
   "execution_count": null,
   "metadata": {},
   "outputs": [],
   "source": [
    "import cv2\n",
    "import numpy as np\n",
    "import dlib\n",
    "import sys"
   ]
  },
  {
   "cell_type": "code",
   "execution_count": null,
   "metadata": {},
   "outputs": [],
   "source": [
    "# Load the detector\n",
    "detector = dlib.get_frontal_face_detector()"
   ]
  },
  {
   "cell_type": "code",
   "execution_count": null,
   "metadata": {},
   "outputs": [],
   "source": [
    "# Load the predictor\n",
    "predictor = dlib.shape_predictor(r\"C:\\Users\\Anton\\Desktop\\FALL 2020\\CS490 (SE450)\\Detect-Facial-Features-master\\Detect-Facial-Features-master\\shape_predictor_68_face_landmarks.dat\")\n"
   ]
  },
  {
   "cell_type": "code",
   "execution_count": null,
   "metadata": {},
   "outputs": [],
   "source": [
    "# read the image\n",
    "img = cv2.imread(r\"C:\\Users\\Anton\\Desktop\\FALL 2020\\CS490 (SE450)\\Detect-Facial-Features-master\\Detect-Facial-Features-master\\images\\image_2.jpg\")\n"
   ]
  },
  {
   "cell_type": "code",
   "execution_count": null,
   "metadata": {},
   "outputs": [],
   "source": [
    "# Convert image into grayscale\n",
    "gray = cv2.cvtColor(src=img, code=cv2.COLOR_BGR2GRAY)\n"
   ]
  },
  {
   "cell_type": "markdown",
   "metadata": {},
   "source": [
    "# Jaw Points = 0–16\n",
    "# Right Brow Points = 17–21\n",
    "# Left Brow Points = 22–26 \n",
    "# Nose Points = 27–35\n",
    "# Right Eye Points = 36–41\n",
    "# Left Eye Points = 42–47\n",
    "# Mouth Points = 48–60\n",
    "# Lips Points = 61–67\n"
   ]
  },
  {
   "cell_type": "code",
   "execution_count": null,
   "metadata": {},
   "outputs": [],
   "source": [
    "# Use detector to find landmarks\n",
    "empty_array = np.array([])\n",
    "faces = detector(gray)\n",
    "for face in faces:\n",
    "    x1 = face.left() # left point\n",
    "    y1 = face.top() # top point\n",
    "    x2 = face.right() # right point\n",
    "    y2 = face.bottom() # bottom point\n",
    "    # Create landmark object\n",
    "    landmarks = predictor(image=gray, box=face)\n",
    "    # Loop through all the points\n",
    "    for n in range(0, 27):\n",
    "        x = landmarks.part(n).x\n",
    "        y = landmarks.part(n).y        \n",
    "        empty_array = np.append(empty_array, ([x, y]) , axis = 0)\n",
    "        # Draw a circle\n",
    "        cv2.circle(img=img, center=(x, y), radius=3, color=(0,\n",
    "        255, 0), thickness=-1)\n"
   ]
  },
  {
   "cell_type": "code",
   "execution_count": null,
   "metadata": {},
   "outputs": [],
   "source": [
    "# show the image\n",
    "cv2.imshow(winname=\"Face\", mat=img)\n",
    "# Delay between every fram\n",
    "cv2.waitKey(delay=0)\n",
    "# Close all windows\n",
    "cv2.destroyAllWindows()"
   ]
  },
  {
   "cell_type": "code",
   "execution_count": null,
   "metadata": {},
   "outputs": [],
   "source": [
    "print(empty_array)"
   ]
  },
  {
   "cell_type": "code",
   "execution_count": null,
   "metadata": {},
   "outputs": [],
   "source": [
    "empty_array.reshape(-1, 2)"
   ]
  },
  {
   "cell_type": "code",
   "execution_count": null,
   "metadata": {},
   "outputs": [],
   "source": [
    "empty_array.zscore()"
   ]
  },
  {
   "cell_type": "code",
   "execution_count": null,
   "metadata": {},
   "outputs": [],
   "source": []
  }
 ],
 "metadata": {
  "kernelspec": {
   "display_name": "Python 3",
   "language": "python",
   "name": "python3"
  },
  "language_info": {
   "codemirror_mode": {
    "name": "ipython",
    "version": 3
   },
   "file_extension": ".py",
   "mimetype": "text/x-python",
   "name": "python",
   "nbconvert_exporter": "python",
   "pygments_lexer": "ipython3",
   "version": "3.7.9"
  }
 },
 "nbformat": 4,
 "nbformat_minor": 4
}
